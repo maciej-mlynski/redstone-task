{
 "cells": [
  {
   "cell_type": "code",
   "execution_count": 1,
   "id": "2d0f045d-2992-4c28-b09e-8ad4e273eb19",
   "metadata": {},
   "outputs": [
    {
     "name": "stderr",
     "output_type": "stream",
     "text": [
      "/Users/maddy/Library/Python/3.9/lib/python/site-packages/urllib3/__init__.py:35: NotOpenSSLWarning: urllib3 v2 only supports OpenSSL 1.1.1+, currently the 'ssl' module is compiled with 'LibreSSL 2.8.3'. See: https://github.com/urllib3/urllib3/issues/3020\n",
      "  warnings.warn(\n"
     ]
    }
   ],
   "source": [
    "from influxdb_client import InfluxDBClient\n",
    "from influxdb_client.client.write_api import SYNCHRONOUS\n",
    "import pandas as pd\n",
    "from influxdb_client.client.exceptions import InfluxDBError\n",
    "import time\n",
    "import numpy as np\n",
    "import pandas as pd"
   ]
  },
  {
   "cell_type": "code",
   "execution_count": 139,
   "id": "20ab9108-cdb5-4766-92a4-d61f306f4adf",
   "metadata": {},
   "outputs": [
    {
     "name": "stdout",
     "output_type": "stream",
     "text": [
      "Defaulting to user installation because normal site-packages is not writeable\n",
      "Collecting python-dotenv\n",
      "  Downloading python_dotenv-1.1.0-py3-none-any.whl.metadata (24 kB)\n",
      "Downloading python_dotenv-1.1.0-py3-none-any.whl (20 kB)\n",
      "Installing collected packages: python-dotenv\n",
      "Successfully installed python-dotenv-1.1.0\n",
      "\n",
      "\u001b[1m[\u001b[0m\u001b[34;49mnotice\u001b[0m\u001b[1;39;49m]\u001b[0m\u001b[39;49m A new release of pip is available: \u001b[0m\u001b[31;49m25.0.1\u001b[0m\u001b[39;49m -> \u001b[0m\u001b[32;49m25.1.1\u001b[0m\n",
      "\u001b[1m[\u001b[0m\u001b[34;49mnotice\u001b[0m\u001b[1;39;49m]\u001b[0m\u001b[39;49m To update, run: \u001b[0m\u001b[32;49m/Library/Developer/CommandLineTools/usr/bin/python3 -m pip install --upgrade pip\u001b[0m\n"
     ]
    },
    {
     "data": {
      "text/plain": [
       "True"
      ]
     },
     "execution_count": 139,
     "metadata": {},
     "output_type": "execute_result"
    }
   ],
   "source": [
    "!pip install python-dotenv\n",
    "\n",
    "import os\n",
    "from dotenv import load_dotenv\n",
    "\n",
    "# Wczytaj zmienne z pliku .env (upewnij się, że .env jest w tym samym folderze co notebook)\n",
    "load_dotenv()"
   ]
  },
  {
   "cell_type": "code",
   "execution_count": 140,
   "id": "9f83ddb6-a723-4afb-bbcf-187089f284de",
   "metadata": {},
   "outputs": [],
   "source": [
    "bucket = \"redstone\"\n",
    "org = \"redstone\"\n",
    "token = os.getenv('token')\n",
    "# Store the URL of your InfluxDB instance\n",
    "url=os.getenv('url')"
   ]
  },
  {
   "cell_type": "code",
   "execution_count": 141,
   "id": "f6b7d5e6-9795-40e6-98ee-3a31dbf96087",
   "metadata": {},
   "outputs": [],
   "source": [
    "client = InfluxDBClient(url=url, token=token, org=org, timeout=30000)"
   ]
  },
  {
   "cell_type": "code",
   "execution_count": 142,
   "id": "3423aca8-4d7c-468d-b6b6-58f2c89519c1",
   "metadata": {},
   "outputs": [],
   "source": [
    "query_api = client.query_api()"
   ]
  },
  {
   "cell_type": "markdown",
   "id": "ec39c4c1-91db-4597-8efc-fab93e191431",
   "metadata": {},
   "source": [
    "## Extract last 30 days of USDC feeds"
   ]
  },
  {
   "cell_type": "code",
   "execution_count": 143,
   "id": "8f07305b-60a1-4e74-90bd-a87dbbf40141",
   "metadata": {},
   "outputs": [],
   "source": [
    "query = '''\n",
    "from(bucket: \"redstone\")\n",
    "  |> range(start: -30d)\n",
    "  |> filter(fn: (r) => r._measurement == \"dataPackages\")\n",
    "  |> filter(fn: (r) => r[\"dataServiceId\"] == \"redstone-main-demo\")\n",
    "  |> filter(fn: (r) => r[\"dataFeedId\"] == \"USDC\")\n",
    "'''\n",
    "\n",
    "tables = query_api.query(query)\n",
    "\n",
    "records = []\n",
    "for table in tables:\n",
    "    for record in table.records:\n",
    "        records.append({\n",
    "            \"time\": record.get_time(),\n",
    "            \"feed_name\": record.values.get(\"_field\"),\n",
    "            \"value\": record.get_value()\n",
    "        })\n",
    "\n",
    "df = pd.DataFrame(records)"
   ]
  },
  {
   "cell_type": "code",
   "execution_count": 6,
   "id": "c5f71559-7919-4e2f-befe-2bb70649eadb",
   "metadata": {},
   "outputs": [
    {
     "data": {
      "text/html": [
       "<div>\n",
       "<style scoped>\n",
       "    .dataframe tbody tr th:only-of-type {\n",
       "        vertical-align: middle;\n",
       "    }\n",
       "\n",
       "    .dataframe tbody tr th {\n",
       "        vertical-align: top;\n",
       "    }\n",
       "\n",
       "    .dataframe thead th {\n",
       "        text-align: right;\n",
       "    }\n",
       "</style>\n",
       "<table border=\"1\" class=\"dataframe\">\n",
       "  <thead>\n",
       "    <tr style=\"text-align: right;\">\n",
       "      <th></th>\n",
       "      <th>feed_name</th>\n",
       "      <th>count</th>\n",
       "      <th>mean</th>\n",
       "      <th>std</th>\n",
       "      <th>min</th>\n",
       "      <th>25%</th>\n",
       "      <th>50%</th>\n",
       "      <th>75%</th>\n",
       "      <th>max</th>\n",
       "    </tr>\n",
       "  </thead>\n",
       "  <tbody>\n",
       "    <tr>\n",
       "      <th>0</th>\n",
       "      <td>metadataValue</td>\n",
       "      <td>43199.0</td>\n",
       "      <td>0.999938</td>\n",
       "      <td>0.000062</td>\n",
       "      <td>0.999587</td>\n",
       "      <td>0.999901</td>\n",
       "      <td>0.999942</td>\n",
       "      <td>0.999980</td>\n",
       "      <td>1.000150</td>\n",
       "    </tr>\n",
       "    <tr>\n",
       "      <th>1</th>\n",
       "      <td>value</td>\n",
       "      <td>43199.0</td>\n",
       "      <td>0.999938</td>\n",
       "      <td>0.000062</td>\n",
       "      <td>0.999587</td>\n",
       "      <td>0.999901</td>\n",
       "      <td>0.999943</td>\n",
       "      <td>0.999980</td>\n",
       "      <td>1.000150</td>\n",
       "    </tr>\n",
       "    <tr>\n",
       "      <th>2</th>\n",
       "      <td>value-balancer-ethereum-usdt</td>\n",
       "      <td>43037.0</td>\n",
       "      <td>0.999916</td>\n",
       "      <td>0.000130</td>\n",
       "      <td>0.999251</td>\n",
       "      <td>0.999849</td>\n",
       "      <td>0.999913</td>\n",
       "      <td>0.999999</td>\n",
       "      <td>1.001450</td>\n",
       "    </tr>\n",
       "    <tr>\n",
       "      <th>3</th>\n",
       "      <td>value-binance-usdt</td>\n",
       "      <td>43171.0</td>\n",
       "      <td>0.999945</td>\n",
       "      <td>0.000082</td>\n",
       "      <td>0.999500</td>\n",
       "      <td>0.999895</td>\n",
       "      <td>0.999950</td>\n",
       "      <td>1.000000</td>\n",
       "      <td>1.000200</td>\n",
       "    </tr>\n",
       "    <tr>\n",
       "      <th>4</th>\n",
       "      <td>value-bitget-usdt</td>\n",
       "      <td>43184.0</td>\n",
       "      <td>0.999939</td>\n",
       "      <td>0.000085</td>\n",
       "      <td>0.999500</td>\n",
       "      <td>0.999890</td>\n",
       "      <td>0.999940</td>\n",
       "      <td>1.000000</td>\n",
       "      <td>1.000240</td>\n",
       "    </tr>\n",
       "    <tr>\n",
       "      <th>5</th>\n",
       "      <td>value-bitmart-usdt</td>\n",
       "      <td>43149.0</td>\n",
       "      <td>0.999955</td>\n",
       "      <td>0.000083</td>\n",
       "      <td>0.998050</td>\n",
       "      <td>0.999915</td>\n",
       "      <td>0.999960</td>\n",
       "      <td>1.000005</td>\n",
       "      <td>1.002014</td>\n",
       "    </tr>\n",
       "    <tr>\n",
       "      <th>6</th>\n",
       "      <td>value-bitrue-usdt</td>\n",
       "      <td>43174.0</td>\n",
       "      <td>0.999986</td>\n",
       "      <td>0.000172</td>\n",
       "      <td>0.999150</td>\n",
       "      <td>0.999900</td>\n",
       "      <td>0.999970</td>\n",
       "      <td>1.000026</td>\n",
       "      <td>1.000727</td>\n",
       "    </tr>\n",
       "    <tr>\n",
       "      <th>7</th>\n",
       "      <td>value-bitstamp-usd</td>\n",
       "      <td>43180.0</td>\n",
       "      <td>0.999978</td>\n",
       "      <td>0.000058</td>\n",
       "      <td>0.999360</td>\n",
       "      <td>0.999950</td>\n",
       "      <td>0.999980</td>\n",
       "      <td>1.000000</td>\n",
       "      <td>1.000780</td>\n",
       "    </tr>\n",
       "    <tr>\n",
       "      <th>8</th>\n",
       "      <td>value-coingecko</td>\n",
       "      <td>42369.0</td>\n",
       "      <td>0.999947</td>\n",
       "      <td>0.000046</td>\n",
       "      <td>0.999587</td>\n",
       "      <td>0.999903</td>\n",
       "      <td>0.999955</td>\n",
       "      <td>0.999992</td>\n",
       "      <td>1.000000</td>\n",
       "    </tr>\n",
       "    <tr>\n",
       "      <th>9</th>\n",
       "      <td>value-curve-ethereum-dai</td>\n",
       "      <td>43037.0</td>\n",
       "      <td>0.999961</td>\n",
       "      <td>0.000099</td>\n",
       "      <td>0.999473</td>\n",
       "      <td>0.999894</td>\n",
       "      <td>0.999967</td>\n",
       "      <td>1.000015</td>\n",
       "      <td>1.000473</td>\n",
       "    </tr>\n",
       "    <tr>\n",
       "      <th>10</th>\n",
       "      <td>value-curve-ethereum-usdt</td>\n",
       "      <td>43019.0</td>\n",
       "      <td>0.999939</td>\n",
       "      <td>0.000090</td>\n",
       "      <td>0.999527</td>\n",
       "      <td>0.999881</td>\n",
       "      <td>0.999939</td>\n",
       "      <td>1.000001</td>\n",
       "      <td>1.000320</td>\n",
       "    </tr>\n",
       "    <tr>\n",
       "      <th>11</th>\n",
       "      <td>value-kaiko-v2</td>\n",
       "      <td>33805.0</td>\n",
       "      <td>0.999983</td>\n",
       "      <td>0.000455</td>\n",
       "      <td>0.989057</td>\n",
       "      <td>0.999886</td>\n",
       "      <td>0.999954</td>\n",
       "      <td>1.000013</td>\n",
       "      <td>1.003951</td>\n",
       "    </tr>\n",
       "    <tr>\n",
       "      <th>12</th>\n",
       "      <td>value-kraken-usdt</td>\n",
       "      <td>43190.0</td>\n",
       "      <td>0.999925</td>\n",
       "      <td>0.000079</td>\n",
       "      <td>0.999500</td>\n",
       "      <td>0.999880</td>\n",
       "      <td>0.999920</td>\n",
       "      <td>0.999980</td>\n",
       "      <td>1.000246</td>\n",
       "    </tr>\n",
       "    <tr>\n",
       "      <th>13</th>\n",
       "      <td>value-kucoin-usdt</td>\n",
       "      <td>43173.0</td>\n",
       "      <td>0.999888</td>\n",
       "      <td>0.000131</td>\n",
       "      <td>0.999435</td>\n",
       "      <td>0.999800</td>\n",
       "      <td>0.999892</td>\n",
       "      <td>0.999982</td>\n",
       "      <td>1.000400</td>\n",
       "    </tr>\n",
       "    <tr>\n",
       "      <th>14</th>\n",
       "      <td>value-lbank-usdt</td>\n",
       "      <td>41708.0</td>\n",
       "      <td>0.999889</td>\n",
       "      <td>0.000118</td>\n",
       "      <td>0.997070</td>\n",
       "      <td>0.999832</td>\n",
       "      <td>0.999900</td>\n",
       "      <td>0.999955</td>\n",
       "      <td>1.000235</td>\n",
       "    </tr>\n",
       "    <tr>\n",
       "      <th>15</th>\n",
       "      <td>value-okx-usdt</td>\n",
       "      <td>43176.0</td>\n",
       "      <td>0.999922</td>\n",
       "      <td>0.000097</td>\n",
       "      <td>0.999500</td>\n",
       "      <td>0.999860</td>\n",
       "      <td>0.999920</td>\n",
       "      <td>0.999990</td>\n",
       "      <td>1.000310</td>\n",
       "    </tr>\n",
       "    <tr>\n",
       "      <th>16</th>\n",
       "      <td>value-slippage-balancer-ethereum-usdt-buy</td>\n",
       "      <td>43038.0</td>\n",
       "      <td>0.032099</td>\n",
       "      <td>0.023976</td>\n",
       "      <td>0.010139</td>\n",
       "      <td>0.017305</td>\n",
       "      <td>0.018287</td>\n",
       "      <td>0.060382</td>\n",
       "      <td>0.080557</td>\n",
       "    </tr>\n",
       "    <tr>\n",
       "      <th>17</th>\n",
       "      <td>value-slippage-balancer-ethereum-usdt-sell</td>\n",
       "      <td>43038.0</td>\n",
       "      <td>0.032711</td>\n",
       "      <td>0.024837</td>\n",
       "      <td>0.010277</td>\n",
       "      <td>0.017485</td>\n",
       "      <td>0.018384</td>\n",
       "      <td>0.060994</td>\n",
       "      <td>0.086672</td>\n",
       "    </tr>\n",
       "    <tr>\n",
       "      <th>18</th>\n",
       "      <td>value-slippage-curve-ethereum-dai-buy</td>\n",
       "      <td>43038.0</td>\n",
       "      <td>-0.000015</td>\n",
       "      <td>0.000054</td>\n",
       "      <td>-0.000098</td>\n",
       "      <td>-0.000059</td>\n",
       "      <td>-0.000024</td>\n",
       "      <td>0.000023</td>\n",
       "      <td>0.000106</td>\n",
       "    </tr>\n",
       "    <tr>\n",
       "      <th>19</th>\n",
       "      <td>value-slippage-curve-ethereum-dai-sell</td>\n",
       "      <td>43038.0</td>\n",
       "      <td>0.000003</td>\n",
       "      <td>0.000001</td>\n",
       "      <td>0.000002</td>\n",
       "      <td>0.000002</td>\n",
       "      <td>0.000003</td>\n",
       "      <td>0.000004</td>\n",
       "      <td>0.000007</td>\n",
       "    </tr>\n",
       "    <tr>\n",
       "      <th>20</th>\n",
       "      <td>value-slippage-curve-ethereum-usdt-buy</td>\n",
       "      <td>43019.0</td>\n",
       "      <td>-0.000012</td>\n",
       "      <td>0.000050</td>\n",
       "      <td>-0.000097</td>\n",
       "      <td>-0.000051</td>\n",
       "      <td>-0.000017</td>\n",
       "      <td>0.000018</td>\n",
       "      <td>0.000144</td>\n",
       "    </tr>\n",
       "    <tr>\n",
       "      <th>21</th>\n",
       "      <td>value-slippage-curve-ethereum-usdt-sell</td>\n",
       "      <td>43017.0</td>\n",
       "      <td>0.000038</td>\n",
       "      <td>0.000057</td>\n",
       "      <td>-0.000097</td>\n",
       "      <td>0.000005</td>\n",
       "      <td>0.000050</td>\n",
       "      <td>0.000083</td>\n",
       "      <td>0.000151</td>\n",
       "    </tr>\n",
       "    <tr>\n",
       "      <th>22</th>\n",
       "      <td>value-slippage-uniswap-v3-ethereum-dai-100-buy</td>\n",
       "      <td>43037.0</td>\n",
       "      <td>-0.000044</td>\n",
       "      <td>0.000028</td>\n",
       "      <td>-0.000097</td>\n",
       "      <td>-0.000068</td>\n",
       "      <td>-0.000044</td>\n",
       "      <td>-0.000021</td>\n",
       "      <td>0.000007</td>\n",
       "    </tr>\n",
       "    <tr>\n",
       "      <th>23</th>\n",
       "      <td>value-slippage-uniswap-v3-ethereum-dai-100-sell</td>\n",
       "      <td>43037.0</td>\n",
       "      <td>-0.000081</td>\n",
       "      <td>0.000034</td>\n",
       "      <td>-0.000097</td>\n",
       "      <td>-0.000096</td>\n",
       "      <td>-0.000095</td>\n",
       "      <td>-0.000092</td>\n",
       "      <td>0.000007</td>\n",
       "    </tr>\n",
       "    <tr>\n",
       "      <th>24</th>\n",
       "      <td>value-uniswap-v3-ethereum-dai-100</td>\n",
       "      <td>43038.0</td>\n",
       "      <td>0.999933</td>\n",
       "      <td>0.000097</td>\n",
       "      <td>0.999454</td>\n",
       "      <td>0.999870</td>\n",
       "      <td>0.999941</td>\n",
       "      <td>0.999984</td>\n",
       "      <td>1.000453</td>\n",
       "    </tr>\n",
       "  </tbody>\n",
       "</table>\n",
       "</div>"
      ],
      "text/plain": [
       "                                          feed_name    count      mean  \\\n",
       "0                                     metadataValue  43199.0  0.999938   \n",
       "1                                             value  43199.0  0.999938   \n",
       "2                      value-balancer-ethereum-usdt  43037.0  0.999916   \n",
       "3                                value-binance-usdt  43171.0  0.999945   \n",
       "4                                 value-bitget-usdt  43184.0  0.999939   \n",
       "5                                value-bitmart-usdt  43149.0  0.999955   \n",
       "6                                 value-bitrue-usdt  43174.0  0.999986   \n",
       "7                                value-bitstamp-usd  43180.0  0.999978   \n",
       "8                                   value-coingecko  42369.0  0.999947   \n",
       "9                          value-curve-ethereum-dai  43037.0  0.999961   \n",
       "10                        value-curve-ethereum-usdt  43019.0  0.999939   \n",
       "11                                   value-kaiko-v2  33805.0  0.999983   \n",
       "12                                value-kraken-usdt  43190.0  0.999925   \n",
       "13                                value-kucoin-usdt  43173.0  0.999888   \n",
       "14                                 value-lbank-usdt  41708.0  0.999889   \n",
       "15                                   value-okx-usdt  43176.0  0.999922   \n",
       "16        value-slippage-balancer-ethereum-usdt-buy  43038.0  0.032099   \n",
       "17       value-slippage-balancer-ethereum-usdt-sell  43038.0  0.032711   \n",
       "18            value-slippage-curve-ethereum-dai-buy  43038.0 -0.000015   \n",
       "19           value-slippage-curve-ethereum-dai-sell  43038.0  0.000003   \n",
       "20           value-slippage-curve-ethereum-usdt-buy  43019.0 -0.000012   \n",
       "21          value-slippage-curve-ethereum-usdt-sell  43017.0  0.000038   \n",
       "22   value-slippage-uniswap-v3-ethereum-dai-100-buy  43037.0 -0.000044   \n",
       "23  value-slippage-uniswap-v3-ethereum-dai-100-sell  43037.0 -0.000081   \n",
       "24                value-uniswap-v3-ethereum-dai-100  43038.0  0.999933   \n",
       "\n",
       "         std       min       25%       50%       75%       max  \n",
       "0   0.000062  0.999587  0.999901  0.999942  0.999980  1.000150  \n",
       "1   0.000062  0.999587  0.999901  0.999943  0.999980  1.000150  \n",
       "2   0.000130  0.999251  0.999849  0.999913  0.999999  1.001450  \n",
       "3   0.000082  0.999500  0.999895  0.999950  1.000000  1.000200  \n",
       "4   0.000085  0.999500  0.999890  0.999940  1.000000  1.000240  \n",
       "5   0.000083  0.998050  0.999915  0.999960  1.000005  1.002014  \n",
       "6   0.000172  0.999150  0.999900  0.999970  1.000026  1.000727  \n",
       "7   0.000058  0.999360  0.999950  0.999980  1.000000  1.000780  \n",
       "8   0.000046  0.999587  0.999903  0.999955  0.999992  1.000000  \n",
       "9   0.000099  0.999473  0.999894  0.999967  1.000015  1.000473  \n",
       "10  0.000090  0.999527  0.999881  0.999939  1.000001  1.000320  \n",
       "11  0.000455  0.989057  0.999886  0.999954  1.000013  1.003951  \n",
       "12  0.000079  0.999500  0.999880  0.999920  0.999980  1.000246  \n",
       "13  0.000131  0.999435  0.999800  0.999892  0.999982  1.000400  \n",
       "14  0.000118  0.997070  0.999832  0.999900  0.999955  1.000235  \n",
       "15  0.000097  0.999500  0.999860  0.999920  0.999990  1.000310  \n",
       "16  0.023976  0.010139  0.017305  0.018287  0.060382  0.080557  \n",
       "17  0.024837  0.010277  0.017485  0.018384  0.060994  0.086672  \n",
       "18  0.000054 -0.000098 -0.000059 -0.000024  0.000023  0.000106  \n",
       "19  0.000001  0.000002  0.000002  0.000003  0.000004  0.000007  \n",
       "20  0.000050 -0.000097 -0.000051 -0.000017  0.000018  0.000144  \n",
       "21  0.000057 -0.000097  0.000005  0.000050  0.000083  0.000151  \n",
       "22  0.000028 -0.000097 -0.000068 -0.000044 -0.000021  0.000007  \n",
       "23  0.000034 -0.000097 -0.000096 -0.000095 -0.000092  0.000007  \n",
       "24  0.000097  0.999454  0.999870  0.999941  0.999984  1.000453  "
      ]
     },
     "execution_count": 6,
     "metadata": {},
     "output_type": "execute_result"
    }
   ],
   "source": [
    "df.groupby('feed_name')['value'].describe().reset_index()"
   ]
  },
  {
   "cell_type": "markdown",
   "id": "9af5db5b-cf31-4cc7-a373-4d1039e2b2ce",
   "metadata": {},
   "source": [
    "### Remove value & metadataValue -> looks like this is a median already"
   ]
  },
  {
   "cell_type": "code",
   "execution_count": 7,
   "id": "c4c45028-25db-4372-9d2b-03a4bfe38933",
   "metadata": {},
   "outputs": [],
   "source": [
    "df = df[(df['feed_name'] != 'metadataValue') & (df['feed_name'] != 'value')]"
   ]
  },
  {
   "cell_type": "markdown",
   "id": "f3392fec-cac0-4269-8537-25bca747504a",
   "metadata": {},
   "source": [
    "### Split feeds & slippage"
   ]
  },
  {
   "cell_type": "code",
   "execution_count": 8,
   "id": "d525b3b9-0729-403d-9210-61f99ea2f1cc",
   "metadata": {},
   "outputs": [],
   "source": [
    "is_slippage = df['feed_name'].str.startswith('value-slippage-')\n",
    "df_values   = df[~is_slippage].copy()\n",
    "df_slippage = df[ is_slippage].copy()"
   ]
  },
  {
   "cell_type": "markdown",
   "id": "763d3b92-7557-4070-b860-7310f77cb48e",
   "metadata": {},
   "source": [
    "## Quick analysis"
   ]
  },
  {
   "cell_type": "code",
   "execution_count": 33,
   "id": "c821fe73-2fb1-450d-9f41-c32ba9928eff",
   "metadata": {},
   "outputs": [
    {
     "data": {
      "text/html": [
       "<div>\n",
       "<style scoped>\n",
       "    .dataframe tbody tr th:only-of-type {\n",
       "        vertical-align: middle;\n",
       "    }\n",
       "\n",
       "    .dataframe tbody tr th {\n",
       "        vertical-align: top;\n",
       "    }\n",
       "\n",
       "    .dataframe thead th {\n",
       "        text-align: right;\n",
       "    }\n",
       "</style>\n",
       "<table border=\"1\" class=\"dataframe\">\n",
       "  <thead>\n",
       "    <tr style=\"text-align: right;\">\n",
       "      <th></th>\n",
       "      <th>feed_name</th>\n",
       "      <th>min</th>\n",
       "      <th>max</th>\n",
       "    </tr>\n",
       "  </thead>\n",
       "  <tbody>\n",
       "    <tr>\n",
       "      <th>9</th>\n",
       "      <td>value-kaiko-v2</td>\n",
       "      <td>0.989057</td>\n",
       "      <td>1.003951</td>\n",
       "    </tr>\n",
       "    <tr>\n",
       "      <th>12</th>\n",
       "      <td>value-lbank-usdt</td>\n",
       "      <td>0.997070</td>\n",
       "      <td>1.000235</td>\n",
       "    </tr>\n",
       "    <tr>\n",
       "      <th>3</th>\n",
       "      <td>value-bitmart-usdt</td>\n",
       "      <td>0.998050</td>\n",
       "      <td>1.002014</td>\n",
       "    </tr>\n",
       "    <tr>\n",
       "      <th>4</th>\n",
       "      <td>value-bitrue-usdt</td>\n",
       "      <td>0.999150</td>\n",
       "      <td>1.000727</td>\n",
       "    </tr>\n",
       "    <tr>\n",
       "      <th>0</th>\n",
       "      <td>value-balancer-ethereum-usdt</td>\n",
       "      <td>0.999251</td>\n",
       "      <td>1.001450</td>\n",
       "    </tr>\n",
       "    <tr>\n",
       "      <th>5</th>\n",
       "      <td>value-bitstamp-usd</td>\n",
       "      <td>0.999360</td>\n",
       "      <td>1.000780</td>\n",
       "    </tr>\n",
       "    <tr>\n",
       "      <th>11</th>\n",
       "      <td>value-kucoin-usdt</td>\n",
       "      <td>0.999435</td>\n",
       "      <td>1.000400</td>\n",
       "    </tr>\n",
       "    <tr>\n",
       "      <th>14</th>\n",
       "      <td>value-uniswap-v3-ethereum-dai-100</td>\n",
       "      <td>0.999454</td>\n",
       "      <td>1.000453</td>\n",
       "    </tr>\n",
       "    <tr>\n",
       "      <th>7</th>\n",
       "      <td>value-curve-ethereum-dai</td>\n",
       "      <td>0.999473</td>\n",
       "      <td>1.000473</td>\n",
       "    </tr>\n",
       "    <tr>\n",
       "      <th>1</th>\n",
       "      <td>value-binance-usdt</td>\n",
       "      <td>0.999500</td>\n",
       "      <td>1.000200</td>\n",
       "    </tr>\n",
       "    <tr>\n",
       "      <th>2</th>\n",
       "      <td>value-bitget-usdt</td>\n",
       "      <td>0.999500</td>\n",
       "      <td>1.000240</td>\n",
       "    </tr>\n",
       "    <tr>\n",
       "      <th>10</th>\n",
       "      <td>value-kraken-usdt</td>\n",
       "      <td>0.999500</td>\n",
       "      <td>1.000246</td>\n",
       "    </tr>\n",
       "    <tr>\n",
       "      <th>13</th>\n",
       "      <td>value-okx-usdt</td>\n",
       "      <td>0.999500</td>\n",
       "      <td>1.000310</td>\n",
       "    </tr>\n",
       "    <tr>\n",
       "      <th>8</th>\n",
       "      <td>value-curve-ethereum-usdt</td>\n",
       "      <td>0.999527</td>\n",
       "      <td>1.000320</td>\n",
       "    </tr>\n",
       "    <tr>\n",
       "      <th>6</th>\n",
       "      <td>value-coingecko</td>\n",
       "      <td>0.999587</td>\n",
       "      <td>1.000000</td>\n",
       "    </tr>\n",
       "  </tbody>\n",
       "</table>\n",
       "</div>"
      ],
      "text/plain": [
       "                            feed_name       min       max\n",
       "9                      value-kaiko-v2  0.989057  1.003951\n",
       "12                   value-lbank-usdt  0.997070  1.000235\n",
       "3                  value-bitmart-usdt  0.998050  1.002014\n",
       "4                   value-bitrue-usdt  0.999150  1.000727\n",
       "0        value-balancer-ethereum-usdt  0.999251  1.001450\n",
       "5                  value-bitstamp-usd  0.999360  1.000780\n",
       "11                  value-kucoin-usdt  0.999435  1.000400\n",
       "14  value-uniswap-v3-ethereum-dai-100  0.999454  1.000453\n",
       "7            value-curve-ethereum-dai  0.999473  1.000473\n",
       "1                  value-binance-usdt  0.999500  1.000200\n",
       "2                   value-bitget-usdt  0.999500  1.000240\n",
       "10                  value-kraken-usdt  0.999500  1.000246\n",
       "13                     value-okx-usdt  0.999500  1.000310\n",
       "8           value-curve-ethereum-usdt  0.999527  1.000320\n",
       "6                     value-coingecko  0.999587  1.000000"
      ]
     },
     "execution_count": 33,
     "metadata": {},
     "output_type": "execute_result"
    }
   ],
   "source": [
    "df_values.groupby('feed_name')['value'].agg(['min', 'max']).reset_index().sort_values('min')"
   ]
  },
  {
   "cell_type": "markdown",
   "id": "295af6b1-6a81-44e5-88d3-29657a039f95",
   "metadata": {},
   "source": [
    "**value-coingecko** is intresting, because it's pricve never go above 1.0 and also the lowest value is at the same time the clostest to 1 from all feeds\n",
    "\n",
    "**value-kaiko-v2** lowest price is 0.989057 which is the lowest from all (No assumtions yet -> it is a single point yet)"
   ]
  },
  {
   "cell_type": "markdown",
   "id": "8bc9776e-40ee-4e52-bf1a-8cec937fce4c",
   "metadata": {},
   "source": [
    "## Feed analysis"
   ]
  },
  {
   "cell_type": "code",
   "execution_count": 9,
   "id": "5fe47081-30d5-4ebe-971c-f8036279ffdf",
   "metadata": {},
   "outputs": [],
   "source": [
    "# Pivot df\n",
    "feeds = df_values.pivot(index='time', columns='feed_name', values='value')\n",
    "feeds.sort_index(inplace=True)\n",
    "feeds.columns.name = None\n",
    "feeds = feeds.reset_index()"
   ]
  },
  {
   "cell_type": "code",
   "execution_count": 10,
   "id": "cec9372f-46d8-41fc-8193-ff3b46e4c04a",
   "metadata": {},
   "outputs": [],
   "source": [
    "assert len(feeds['time'].unique()) == len(feeds)"
   ]
  },
  {
   "cell_type": "markdown",
   "id": "ecb2198b-b4c0-4e15-b775-dd64420594b8",
   "metadata": {},
   "source": [
    "### Mising values"
   ]
  },
  {
   "cell_type": "code",
   "execution_count": 11,
   "id": "3a9c53ea-b123-49b4-a45e-ce1d06099bcb",
   "metadata": {},
   "outputs": [],
   "source": [
    "null_counts = feeds.isna().sum() \\\n",
    "            .rename('null_count') \\\n",
    "            .sort_values(ascending=False).reset_index()\n",
    "\n",
    "null_counts['pct_of_total'] = (\n",
    "    null_counts['null_count']\n",
    "    .div(len(feeds))\n",
    "    .mul(100)\n",
    "    .round(2)\n",
    "    .astype(str) + '%'\n",
    ")"
   ]
  },
  {
   "cell_type": "code",
   "execution_count": 12,
   "id": "bdcd8ba4-0756-47d7-b48c-b797de62fef5",
   "metadata": {},
   "outputs": [
    {
     "data": {
      "text/html": [
       "<div>\n",
       "<style scoped>\n",
       "    .dataframe tbody tr th:only-of-type {\n",
       "        vertical-align: middle;\n",
       "    }\n",
       "\n",
       "    .dataframe tbody tr th {\n",
       "        vertical-align: top;\n",
       "    }\n",
       "\n",
       "    .dataframe thead th {\n",
       "        text-align: right;\n",
       "    }\n",
       "</style>\n",
       "<table border=\"1\" class=\"dataframe\">\n",
       "  <thead>\n",
       "    <tr style=\"text-align: right;\">\n",
       "      <th></th>\n",
       "      <th>index</th>\n",
       "      <th>null_count</th>\n",
       "      <th>pct_of_total</th>\n",
       "    </tr>\n",
       "  </thead>\n",
       "  <tbody>\n",
       "    <tr>\n",
       "      <th>0</th>\n",
       "      <td>value-kaiko-v2</td>\n",
       "      <td>9395</td>\n",
       "      <td>21.75%</td>\n",
       "    </tr>\n",
       "    <tr>\n",
       "      <th>1</th>\n",
       "      <td>value-lbank-usdt</td>\n",
       "      <td>1492</td>\n",
       "      <td>3.45%</td>\n",
       "    </tr>\n",
       "    <tr>\n",
       "      <th>2</th>\n",
       "      <td>value-coingecko</td>\n",
       "      <td>831</td>\n",
       "      <td>1.92%</td>\n",
       "    </tr>\n",
       "    <tr>\n",
       "      <th>3</th>\n",
       "      <td>value-curve-ethereum-usdt</td>\n",
       "      <td>181</td>\n",
       "      <td>0.42%</td>\n",
       "    </tr>\n",
       "    <tr>\n",
       "      <th>4</th>\n",
       "      <td>value-balancer-ethereum-usdt</td>\n",
       "      <td>163</td>\n",
       "      <td>0.38%</td>\n",
       "    </tr>\n",
       "    <tr>\n",
       "      <th>5</th>\n",
       "      <td>value-curve-ethereum-dai</td>\n",
       "      <td>163</td>\n",
       "      <td>0.38%</td>\n",
       "    </tr>\n",
       "    <tr>\n",
       "      <th>6</th>\n",
       "      <td>value-uniswap-v3-ethereum-dai-100</td>\n",
       "      <td>162</td>\n",
       "      <td>0.38%</td>\n",
       "    </tr>\n",
       "    <tr>\n",
       "      <th>7</th>\n",
       "      <td>value-bitmart-usdt</td>\n",
       "      <td>51</td>\n",
       "      <td>0.12%</td>\n",
       "    </tr>\n",
       "    <tr>\n",
       "      <th>8</th>\n",
       "      <td>value-binance-usdt</td>\n",
       "      <td>29</td>\n",
       "      <td>0.07%</td>\n",
       "    </tr>\n",
       "    <tr>\n",
       "      <th>9</th>\n",
       "      <td>value-kucoin-usdt</td>\n",
       "      <td>27</td>\n",
       "      <td>0.06%</td>\n",
       "    </tr>\n",
       "    <tr>\n",
       "      <th>10</th>\n",
       "      <td>value-bitrue-usdt</td>\n",
       "      <td>26</td>\n",
       "      <td>0.06%</td>\n",
       "    </tr>\n",
       "    <tr>\n",
       "      <th>11</th>\n",
       "      <td>value-okx-usdt</td>\n",
       "      <td>24</td>\n",
       "      <td>0.06%</td>\n",
       "    </tr>\n",
       "    <tr>\n",
       "      <th>12</th>\n",
       "      <td>value-bitstamp-usd</td>\n",
       "      <td>20</td>\n",
       "      <td>0.05%</td>\n",
       "    </tr>\n",
       "    <tr>\n",
       "      <th>13</th>\n",
       "      <td>value-bitget-usdt</td>\n",
       "      <td>16</td>\n",
       "      <td>0.04%</td>\n",
       "    </tr>\n",
       "    <tr>\n",
       "      <th>14</th>\n",
       "      <td>value-kraken-usdt</td>\n",
       "      <td>10</td>\n",
       "      <td>0.02%</td>\n",
       "    </tr>\n",
       "    <tr>\n",
       "      <th>15</th>\n",
       "      <td>time</td>\n",
       "      <td>0</td>\n",
       "      <td>0.0%</td>\n",
       "    </tr>\n",
       "  </tbody>\n",
       "</table>\n",
       "</div>"
      ],
      "text/plain": [
       "                                index  null_count pct_of_total\n",
       "0                      value-kaiko-v2        9395       21.75%\n",
       "1                    value-lbank-usdt        1492        3.45%\n",
       "2                     value-coingecko         831        1.92%\n",
       "3           value-curve-ethereum-usdt         181        0.42%\n",
       "4        value-balancer-ethereum-usdt         163        0.38%\n",
       "5            value-curve-ethereum-dai         163        0.38%\n",
       "6   value-uniswap-v3-ethereum-dai-100         162        0.38%\n",
       "7                  value-bitmart-usdt          51        0.12%\n",
       "8                  value-binance-usdt          29        0.07%\n",
       "9                   value-kucoin-usdt          27        0.06%\n",
       "10                  value-bitrue-usdt          26        0.06%\n",
       "11                     value-okx-usdt          24        0.06%\n",
       "12                 value-bitstamp-usd          20        0.05%\n",
       "13                  value-bitget-usdt          16        0.04%\n",
       "14                  value-kraken-usdt          10        0.02%\n",
       "15                               time           0         0.0%"
      ]
     },
     "execution_count": 12,
     "metadata": {},
     "output_type": "execute_result"
    }
   ],
   "source": [
    "null_counts"
   ]
  },
  {
   "cell_type": "markdown",
   "id": "b3c1389c-0330-49af-9577-25f86dab7319",
   "metadata": {},
   "source": [
    "At this stage we can see that **value-kaiko-v2** has big data gaps (21,78%) in single month.\n",
    "**value-lbank-usdt** & **value-coingecko** feeds have higher gaps than most of the group, but it is acceptable"
   ]
  },
  {
   "cell_type": "markdown",
   "id": "7c50f45c-d18b-4671-92ed-41fc98d8bd7f",
   "metadata": {},
   "source": [
    "### Continue analysis on full df \n",
    "-> gaps will be taken into account as an anomaly later on"
   ]
  },
  {
   "cell_type": "markdown",
   "id": "13f2fbef-d4e2-46a4-9d2c-638d7f945c18",
   "metadata": {},
   "source": [
    "# Calc Standard Deviation for each feed"
   ]
  },
  {
   "cell_type": "code",
   "execution_count": 13,
   "id": "3878ac17-4c6d-4bb5-90da-24c608f8140c",
   "metadata": {},
   "outputs": [
    {
     "name": "stdout",
     "output_type": "stream",
     "text": [
      "Feed stability (std deviation of price):\n",
      "value-kaiko-v2                       0.000455\n",
      "value-bitrue-usdt                    0.000172\n",
      "value-kucoin-usdt                    0.000131\n",
      "value-balancer-ethereum-usdt         0.000130\n",
      "value-lbank-usdt                     0.000118\n",
      "value-curve-ethereum-dai             0.000099\n",
      "value-okx-usdt                       0.000097\n",
      "value-uniswap-v3-ethereum-dai-100    0.000097\n",
      "value-curve-ethereum-usdt            0.000090\n",
      "value-bitget-usdt                    0.000085\n",
      "value-bitmart-usdt                   0.000083\n",
      "value-binance-usdt                   0.000082\n",
      "value-kraken-usdt                    0.000079\n",
      "value-bitstamp-usd                   0.000058\n",
      "value-coingecko                      0.000046\n",
      "dtype: float64\n"
     ]
    }
   ],
   "source": [
    "stability = feeds.set_index('time').std()\n",
    "stability = stability.sort_values(ascending=False)\n",
    "\n",
    "print(\"Feed stability (std deviation of price):\")\n",
    "print(stability)"
   ]
  },
  {
   "cell_type": "markdown",
   "id": "4ddee3f0-e436-4fb2-88bd-57e4450cb624",
   "metadata": {},
   "source": [
    "value-kaiko-v2 is by far the most volatile (std = 0.000456), while value-coingecko (0.000045) and value-bitstamp-usd (0.000058) are the most stable, with the others falling in between.\n",
    "\n",
    "Standard deviation is easy to compute and ranks feeds by overall variability, but it can be skewed by a few large spikes, doesn’t reveal when volatility occurs, and ignores issues like missing data or reporting delays."
   ]
  },
  {
   "cell_type": "code",
   "execution_count": 14,
   "id": "08da2543-c64a-4683-83d6-561b83858b3e",
   "metadata": {},
   "outputs": [],
   "source": [
    "feeds['value-global-median'] = feeds.drop('time', axis=1).median(axis=1)"
   ]
  },
  {
   "cell_type": "markdown",
   "id": "a4197cf7-8ef6-4880-9925-149cfd378b32",
   "metadata": {},
   "source": [
    "## Outliers - base on IQR"
   ]
  },
  {
   "cell_type": "code",
   "execution_count": 16,
   "id": "640c7fa5-ad98-4b11-aab2-33a63379509c",
   "metadata": {},
   "outputs": [
    {
     "name": "stdout",
     "output_type": "stream",
     "text": [
      "\n",
      "Outlier ratio per feed (%):\n",
      "value-kaiko-v2                       12.43\n",
      "value-bitrue-usdt                    10.94\n",
      "value-bitstamp-usd                    7.50\n",
      "value-balancer-ethereum-usdt          3.73\n",
      "value-bitmart-usdt                    2.95\n",
      "value-lbank-usdt                      2.90\n",
      "value-uniswap-v3-ethereum-dai-100     2.12\n",
      "value-curve-ethereum-dai              1.74\n",
      "value-kraken-usdt                     1.64\n",
      "value-bitget-usdt                     1.42\n",
      "value-binance-usdt                    1.39\n",
      "value-curve-ethereum-usdt             1.15\n",
      "value-okx-usdt                        0.71\n",
      "value-kucoin-usdt                     0.26\n",
      "value-coingecko                       0.12\n",
      "dtype: float64\n"
     ]
    }
   ],
   "source": [
    "df = feeds.set_index('time')\n",
    "feed_cols = [c for c in df.columns if c != 'value-global-median']\n",
    "df_feeds = df[feed_cols]\n",
    "\n",
    "# 2. Compute quartiles and IQR per feed\n",
    "Q1 = df_feeds.quantile(0.25)\n",
    "Q3 = df_feeds.quantile(0.75)\n",
    "IQR = Q3 - Q1\n",
    "\n",
    "# 3. Define outlier bounds\n",
    "lower_bound = Q1 - 1.5 * IQR\n",
    "upper_bound = Q3 + 1.5 * IQR\n",
    "\n",
    "# 4. Flag outliers\n",
    "outliers = (df_feeds.lt(lower_bound, axis=1)) | (df_feeds.gt(upper_bound, axis=1))\n",
    "\n",
    "# 5. Summarize counts and ratios\n",
    "outlier_counts = outliers.sum().sort_values(ascending=False)\n",
    "outlier_ratio  = (outlier_counts / len(df_feeds) * 100).round(2).sort_values(ascending=False)\n",
    "\n",
    "print(\"\\nOutlier ratio per feed (%):\")\n",
    "print(outlier_ratio)"
   ]
  },
  {
   "cell_type": "markdown",
   "id": "0175f3bb-1476-400e-8399-7dd056afb453",
   "metadata": {},
   "source": [
    "value-kaiko-v2 shows the highest outlier rate at 12.4%, followed by value-bitrue-usdt (10.9%) and value-bitstamp-usd (7.5%), indicating these feeds produce extreme price readings far more often than the rest. \n",
    "\n",
    "The most reliable sources are value-coingecko (0.12%) and value-kucoin-usdt (0.26%), which almost never report outliers, but is it good? -> probably not if there is a dpeg (the price might be delayed or over smoothed)\n",
    "\n",
    "Weakness: The IQR-based outlier metric assumes a roughly symmetric distribution and may miss systematic biases or directional “worst-case” deviations (e.g., only large drops) that fall within the IQR bounds."
   ]
  },
  {
   "cell_type": "markdown",
   "id": "bfab4855-70d7-464a-b1e0-2c6c0d0f9533",
   "metadata": {},
   "source": [
    "## Flatness (feed's median movements agains global median)"
   ]
  },
  {
   "cell_type": "code",
   "execution_count": 18,
   "id": "1a369b12-f6b4-48ca-8f52-874b0e830cbd",
   "metadata": {},
   "outputs": [
    {
     "name": "stdout",
     "output_type": "stream",
     "text": [
      "                                   flatness_ratio  flatness_%\n",
      "value-bitstamp-usd                       2.560868       60.95\n",
      "value-coingecko                          1.988871       49.72\n",
      "value-curve-ethereum-usdt                1.056379        5.34\n",
      "value-balancer-ethereum-usdt             0.978762       -2.17\n",
      "value-uniswap-v3-ethereum-dai-100        0.851949      -17.38\n",
      "value-curve-ethereum-dai                 0.851204      -17.48\n",
      "value-kraken-usdt                        0.785880      -27.25\n",
      "value-lbank-usdt                         0.782737      -27.76\n",
      "value-bitmart-usdt                       0.640945      -56.02\n",
      "value-okx-usdt                           0.548658      -82.26\n",
      "value-kucoin-usdt                        0.547396      -82.68\n",
      "value-bitget-usdt                        0.544310      -83.72\n",
      "value-binance-usdt                       0.536414      -86.42\n",
      "value-bitrue-usdt                        0.505233      -97.93\n",
      "value-kaiko-v2                           0.075014    -1233.08\n"
     ]
    }
   ],
   "source": [
    "import pandas as pd\n",
    "\n",
    "# assume `feeds` is your pivoted DataFrame, with 'time' as a column\n",
    "df = feeds.set_index('time')\n",
    "\n",
    "# separate out the feed columns vs. the global median column\n",
    "feed_cols = [c for c in df.columns if c != 'value-global-median']\n",
    "df_feeds = df[feed_cols]\n",
    "median = df['value-global-median']\n",
    "\n",
    "# compute first differences (t → t+1) and drop the NaN at top\n",
    "feed_diffs = df_feeds.diff().dropna()\n",
    "median_diff = median.diff().dropna()\n",
    "\n",
    "# compute standard deviation of those diffs\n",
    "feed_diff_std   = feed_diffs.std()\n",
    "median_diff_std = median_diff.std()\n",
    "\n",
    "# flatness ratio: how many times the market moves more than the feed\n",
    "flatness_ratio = median_diff_std / feed_diff_std\n",
    "\n",
    "# flatness_pct: percent below market volatility \n",
    "flatness_pct = (1 - feed_diff_std / median_diff_std) * 100\n",
    "\n",
    "# combine into a single table\n",
    "flatness = pd.DataFrame({\n",
    "    'flatness_ratio': flatness_ratio,\n",
    "    'flatness_%': flatness_pct.round(2)\n",
    "}).sort_values('flatness_ratio', ascending=False)\n",
    "\n",
    "print(flatness)"
   ]
  },
  {
   "cell_type": "markdown",
   "id": "35fc069c-546f-4ab3-b378-ce527ced9ef4",
   "metadata": {},
   "source": [
    "The “flatness” metric compares each feed’s short-term volatility (std of its price changes) against the global median.\n",
    "Any extreme in this matric migh be a red flag. \n",
    "**High flatness_ratio** (value-bitstamp-usd & value-coingecko) might means that the feed is artificaly smotheed or it is slow to reflect real fluctuations.\n",
    "\n",
    "**Low flatness_ratio** (value-kaiko-v2 & value-bitrue-usdt) might means the feed’s reported price moves more strongly than the actual USDC market moves. "
   ]
  },
  {
   "cell_type": "markdown",
   "id": "88cd1295-e98a-4871-8725-0c34d4098fb8",
   "metadata": {},
   "source": [
    "## Feed's delay against global median"
   ]
  },
  {
   "cell_type": "code",
   "execution_count": 106,
   "id": "5e02f12e-57d7-4787-86af-411b4e90660a",
   "metadata": {},
   "outputs": [
    {
     "name": "stdout",
     "output_type": "stream",
     "text": [
      "Total significant median movements above TH: 113\n",
      "\n",
      "                                   delayed_1_steps  delayed_2_steps  \\\n",
      "value-bitrue-usdt                                9                2   \n",
      "value-kaiko-v2                                   7                1   \n",
      "value-kucoin-usdt                                7                2   \n",
      "value-bitget-usdt                                5                0   \n",
      "value-kraken-usdt                                5                1   \n",
      "value-okx-usdt                                   5                0   \n",
      "value-balancer-ethereum-usdt                     4                1   \n",
      "value-binance-usdt                               4                2   \n",
      "value-curve-ethereum-usdt                        3                2   \n",
      "value-lbank-usdt                                 3                2   \n",
      "value-bitmart-usdt                               2                1   \n",
      "value-curve-ethereum-dai                         2                1   \n",
      "value-uniswap-v3-ethereum-dai-100                2                1   \n",
      "value-bitstamp-usd                               0                0   \n",
      "value-coingecko                                  0                0   \n",
      "\n",
      "                                   unresolved  \n",
      "value-bitrue-usdt                          26  \n",
      "value-kaiko-v2                             36  \n",
      "value-kucoin-usdt                          35  \n",
      "value-bitget-usdt                          34  \n",
      "value-kraken-usdt                          25  \n",
      "value-okx-usdt                             23  \n",
      "value-balancer-ethereum-usdt               35  \n",
      "value-binance-usdt                         32  \n",
      "value-curve-ethereum-usdt                  34  \n",
      "value-lbank-usdt                           38  \n",
      "value-bitmart-usdt                         35  \n",
      "value-curve-ethereum-dai                   57  \n",
      "value-uniswap-v3-ethereum-dai-100          60  \n",
      "value-bitstamp-usd                        113  \n",
      "value-coingecko                           113  \n"
     ]
    }
   ],
   "source": [
    "import pandas as pd\n",
    "import numpy as np\n",
    "\n",
    "df = feeds.set_index('time')\n",
    "feed_cols = [c for c in df.columns if c != 'value-global-median']\n",
    "\n",
    "TH = 0.0002  # próg istotnego ruchu\n",
    "\n",
    "# W ilu kolejnych interwałach sprawdzać \"nadgonienie\"\n",
    "MAX_DELAY = 2\n",
    "\n",
    "# Słownik na liczbę przypadków dla każdego feedu i delay\n",
    "delay_results = {f'delayed_{d}_steps': {} for d in range(1, MAX_DELAY+1)}\n",
    "delay_results['unresolved'] = {}\n",
    "median_moves = df['value-global-median'].diff()\n",
    "sig_move_idx = median_moves.abs() > TH\n",
    "total_sig_moves = sig_move_idx.sum()\n",
    "print(f\"Total significant median movements above TH: {total_sig_moves}\\n\")\n",
    "\n",
    "for feed in feed_cols:\n",
    "    median_moves = df['value-global-median'].diff()\n",
    "    feed_moves = df[feed].diff()\n",
    "    sig_move_idx = median_moves.abs() > TH\n",
    "    \n",
    "    delayed = ~((feed_moves.abs() > TH) & sig_move_idx)\n",
    "    \n",
    "    # Sprawdzamy kolejne opóźnienia\n",
    "    found_catchup = pd.Series(False, index=df.index)\n",
    "    remaining = delayed & sig_move_idx\n",
    "    \n",
    "    for d in range(1, MAX_DELAY+1):\n",
    "        # Czy feed nadrabia w d-tym kroku po ruchu mediany?\n",
    "        catchup = (feed_moves.abs().shift(-d, fill_value=0) > TH) & remaining\n",
    "        delay_results[f'delayed_{d}_steps'][feed] = catchup.sum()\n",
    "        # Zaznaczamy już złapane, by nie liczyć kilka razy tego samego eventu\n",
    "        found_catchup = found_catchup | catchup\n",
    "        remaining = remaining & ~catchup\n",
    "    delay_results['unresolved'][feed] = remaining.sum()\n",
    "    \n",
    "\n",
    "# Wyniki jako DataFrame\n",
    "delay_df = pd.DataFrame(delay_results)\n",
    "delay_df = delay_df[[f'delayed_{d}_steps' for d in range(1, MAX_DELAY+1)] + ['unresolved']]\n",
    "delay_df = delay_df.sort_values(by='delayed_1_steps', ascending=False)\n",
    "print(delay_df)\n"
   ]
  },
  {
   "cell_type": "markdown",
   "id": "73f0cc11-a03f-429d-957f-71d3b341d7d6",
   "metadata": {},
   "source": [
    "This metric highlights which feeds are slow to reflect real price changes.\n",
    "\n",
    "Feeds like **value-bitstamp-usd** and **value-coingecko** have zero delayed reactions—but also the highest number of unresolved events, meaning they failed to react to any of the 113 significant USDC market moves. In contrast, other feeds, despite some delays, do eventually reflect most price changes, making them more responsive to real market movements."
   ]
  },
  {
   "cell_type": "markdown",
   "id": "fc60839d-c678-42c2-9e01-fa5630a980fe",
   "metadata": {},
   "source": [
    "## Median abs deviation"
   ]
  },
  {
   "cell_type": "code",
   "execution_count": 121,
   "id": "c57bbd40-01e4-492c-b690-893c045e8910",
   "metadata": {},
   "outputs": [],
   "source": [
    "mean_abs_deviation = (df[feed_cols].sub(df['value-global-median'], axis=0)).abs().mean().sort_values(ascending=False)"
   ]
  },
  {
   "cell_type": "code",
   "execution_count": 122,
   "id": "8fb9909b-a43f-4136-afb4-957c71115424",
   "metadata": {},
   "outputs": [
    {
     "data": {
      "text/plain": [
       "value-kaiko-v2                       0.000173\n",
       "value-kucoin-usdt                    0.000093\n",
       "value-bitrue-usdt                    0.000089\n",
       "value-balancer-ethereum-usdt         0.000075\n",
       "value-lbank-usdt                     0.000074\n",
       "value-okx-usdt                       0.000062\n",
       "value-curve-ethereum-dai             0.000061\n",
       "value-bitstamp-usd                   0.000059\n",
       "value-uniswap-v3-ethereum-dai-100    0.000058\n",
       "value-kraken-usdt                    0.000048\n",
       "value-bitget-usdt                    0.000046\n",
       "value-binance-usdt                   0.000046\n",
       "value-coingecko                      0.000045\n",
       "value-bitmart-usdt                   0.000040\n",
       "value-curve-ethereum-usdt            0.000039\n",
       "dtype: float64"
      ]
     },
     "execution_count": 122,
     "metadata": {},
     "output_type": "execute_result"
    }
   ],
   "source": [
    "mean_abs_deviation"
   ]
  },
  {
   "cell_type": "markdown",
   "id": "d4db4cce-0e7b-4384-b72c-8263ff6950ef",
   "metadata": {},
   "source": [
    "### Corellation against global median"
   ]
  },
  {
   "cell_type": "code",
   "execution_count": 47,
   "id": "cf75331f-107c-4e1b-b677-91e0cc1f1dae",
   "metadata": {},
   "outputs": [
    {
     "name": "stdout",
     "output_type": "stream",
     "text": [
      "Correlation with global median per feed:\n",
      "value-curve-ethereum-usdt            0.842741\n",
      "value-bitmart-usdt                   0.695541\n",
      "value-bitget-usdt                    0.686047\n",
      "value-binance-usdt                   0.670268\n",
      "value-balancer-ethereum-usdt         0.648620\n",
      "value-kraken-usdt                    0.622492\n",
      "value-curve-ethereum-dai             0.593108\n",
      "value-uniswap-v3-ethereum-dai-100    0.583362\n",
      "value-okx-usdt                       0.554838\n",
      "value-kucoin-usdt                    0.504620\n",
      "value-bitrue-usdt                    0.494104\n",
      "value-lbank-usdt                     0.454369\n",
      "value-coingecko                      0.397027\n",
      "value-bitstamp-usd                   0.285659\n",
      "value-kaiko-v2                       0.209167\n",
      "dtype: float64\n"
     ]
    }
   ],
   "source": [
    "correlations = df[feed_cols].corrwith(df['value-global-median']).sort_values(ascending=False)\n",
    "print(\"Correlation with global median per feed:\")\n",
    "print(correlations)"
   ]
  },
  {
   "cell_type": "markdown",
   "id": "897d0023-bcb2-4552-be5b-65db7c4925b5",
   "metadata": {},
   "source": [
    "This metric quickly identifies which feeds reliably follow the collective market signal.\n",
    "\n",
    "Feeds like **value-curve-ethereum-usdt** (correlation 0.84) and **value-bitmart-usdt** (0.70) move most closely in sync with the global median, showing strong alignment with the consensus price. Lower correlations, such as for **value-bitstamp-usd** (0.29) and **value-kaiko-v2** (0.21), suggest these feeds often diverge from broader market movements."
   ]
  },
  {
   "cell_type": "markdown",
   "id": "f3e42340-2bd8-439d-ba0e-f0fb9990aaaa",
   "metadata": {},
   "source": [
    "### Critical threshold"
   ]
  },
  {
   "cell_type": "code",
   "execution_count": 118,
   "id": "ca42fcc6-5cbd-45af-a22a-ad416812c339",
   "metadata": {},
   "outputs": [
    {
     "name": "stdout",
     "output_type": "stream",
     "text": [
      "Count of extreme drops below 0.995 per feed:\n",
      "value-kaiko-v2                       4\n",
      "value-balancer-ethereum-usdt         0\n",
      "value-binance-usdt                   0\n",
      "value-bitget-usdt                    0\n",
      "value-bitmart-usdt                   0\n",
      "value-bitrue-usdt                    0\n",
      "value-bitstamp-usd                   0\n",
      "value-coingecko                      0\n",
      "value-curve-ethereum-dai             0\n",
      "value-curve-ethereum-usdt            0\n",
      "value-kraken-usdt                    0\n",
      "value-kucoin-usdt                    0\n",
      "value-lbank-usdt                     0\n",
      "value-okx-usdt                       0\n",
      "value-uniswap-v3-ethereum-dai-100    0\n",
      "dtype: int64\n"
     ]
    }
   ],
   "source": [
    "critical_threshold = 0.995\n",
    "extreme_drop_count = (df[feed_cols] < critical_threshold).sum().sort_values(ascending=False)\n",
    "print(f\"Count of extreme drops below {critical_threshold} per feed:\")\n",
    "print(extreme_drop_count)"
   ]
  },
  {
   "cell_type": "markdown",
   "id": "693852ba-69b8-4b64-a5dd-7883b5276356",
   "metadata": {},
   "source": [
    "This metric highlights which feeds have ever reported dangerous depeg events, even if rare.\n",
    "\n",
    "Only **value-kaiko-v2** reported any extreme drops below $0.995 4 times, while all other feeds never fell below this critical threshold during the analysis period—indicating they consistently tracked the USDC peg even in potentially volatile moments."
   ]
  },
  {
   "cell_type": "code",
   "execution_count": 136,
   "id": "0c16c521-333e-4352-816c-2b384ad1b194",
   "metadata": {},
   "outputs": [
    {
     "name": "stdout",
     "output_type": "stream",
     "text": [
      "Count of extreme move above1.003 per feed:\n",
      "value-kaiko-v2                       54\n",
      "value-balancer-ethereum-usdt          0\n",
      "value-binance-usdt                    0\n",
      "value-bitget-usdt                     0\n",
      "value-bitmart-usdt                    0\n",
      "value-bitrue-usdt                     0\n",
      "value-bitstamp-usd                    0\n",
      "value-coingecko                       0\n",
      "value-curve-ethereum-dai              0\n",
      "value-curve-ethereum-usdt             0\n",
      "value-kraken-usdt                     0\n",
      "value-kucoin-usdt                     0\n",
      "value-lbank-usdt                      0\n",
      "value-okx-usdt                        0\n",
      "value-uniswap-v3-ethereum-dai-100     0\n",
      "dtype: int64\n"
     ]
    }
   ],
   "source": [
    "critical_upper_threshold = 1.003\n",
    "extreme_up_count = (df[feed_cols] > critical_upper_threshold).sum().sort_values(ascending=False)\n",
    "print(f\"Count of extreme move above{critical_upper_threshold} per feed:\")\n",
    "print(extreme_up_count)"
   ]
  },
  {
   "cell_type": "code",
   "execution_count": 107,
   "id": "ee03ddf7-9b17-4783-a1c9-8d4a790e36dd",
   "metadata": {},
   "outputs": [
    {
     "data": {
      "text/html": [
       "<div>\n",
       "<style scoped>\n",
       "    .dataframe tbody tr th:only-of-type {\n",
       "        vertical-align: middle;\n",
       "    }\n",
       "\n",
       "    .dataframe tbody tr th {\n",
       "        vertical-align: top;\n",
       "    }\n",
       "\n",
       "    .dataframe thead th {\n",
       "        text-align: right;\n",
       "    }\n",
       "</style>\n",
       "<table border=\"1\" class=\"dataframe\">\n",
       "  <thead>\n",
       "    <tr style=\"text-align: right;\">\n",
       "      <th></th>\n",
       "      <th>time</th>\n",
       "      <th>feed_name</th>\n",
       "      <th>value</th>\n",
       "    </tr>\n",
       "  </thead>\n",
       "  <tbody>\n",
       "    <tr>\n",
       "      <th>678770</th>\n",
       "      <td>2025-04-18 09:33:00+00:00</td>\n",
       "      <td>value-slippage-balancer-ethereum-usdt-buy</td>\n",
       "      <td>0.010862</td>\n",
       "    </tr>\n",
       "    <tr>\n",
       "      <th>678771</th>\n",
       "      <td>2025-04-18 09:34:00+00:00</td>\n",
       "      <td>value-slippage-balancer-ethereum-usdt-buy</td>\n",
       "      <td>0.010862</td>\n",
       "    </tr>\n",
       "    <tr>\n",
       "      <th>678772</th>\n",
       "      <td>2025-04-18 09:35:00+00:00</td>\n",
       "      <td>value-slippage-balancer-ethereum-usdt-buy</td>\n",
       "      <td>0.010862</td>\n",
       "    </tr>\n",
       "    <tr>\n",
       "      <th>678773</th>\n",
       "      <td>2025-04-18 09:36:00+00:00</td>\n",
       "      <td>value-slippage-balancer-ethereum-usdt-buy</td>\n",
       "      <td>0.010861</td>\n",
       "    </tr>\n",
       "    <tr>\n",
       "      <th>678774</th>\n",
       "      <td>2025-04-18 09:37:00+00:00</td>\n",
       "      <td>value-slippage-balancer-ethereum-usdt-buy</td>\n",
       "      <td>0.010862</td>\n",
       "    </tr>\n",
       "    <tr>\n",
       "      <th>...</th>\n",
       "      <td>...</td>\n",
       "      <td>...</td>\n",
       "      <td>...</td>\n",
       "    </tr>\n",
       "    <tr>\n",
       "      <th>1023027</th>\n",
       "      <td>2025-05-18 09:28:00+00:00</td>\n",
       "      <td>value-slippage-uniswap-v3-ethereum-dai-100-sell</td>\n",
       "      <td>-0.000091</td>\n",
       "    </tr>\n",
       "    <tr>\n",
       "      <th>1023028</th>\n",
       "      <td>2025-05-18 09:29:00+00:00</td>\n",
       "      <td>value-slippage-uniswap-v3-ethereum-dai-100-sell</td>\n",
       "      <td>-0.000092</td>\n",
       "    </tr>\n",
       "    <tr>\n",
       "      <th>1023029</th>\n",
       "      <td>2025-05-18 09:30:00+00:00</td>\n",
       "      <td>value-slippage-uniswap-v3-ethereum-dai-100-sell</td>\n",
       "      <td>-0.000091</td>\n",
       "    </tr>\n",
       "    <tr>\n",
       "      <th>1023030</th>\n",
       "      <td>2025-05-18 09:31:00+00:00</td>\n",
       "      <td>value-slippage-uniswap-v3-ethereum-dai-100-sell</td>\n",
       "      <td>-0.000091</td>\n",
       "    </tr>\n",
       "    <tr>\n",
       "      <th>1023031</th>\n",
       "      <td>2025-05-18 09:32:00+00:00</td>\n",
       "      <td>value-slippage-uniswap-v3-ethereum-dai-100-sell</td>\n",
       "      <td>-0.000091</td>\n",
       "    </tr>\n",
       "  </tbody>\n",
       "</table>\n",
       "<p>344262 rows × 3 columns</p>\n",
       "</div>"
      ],
      "text/plain": [
       "                             time  \\\n",
       "678770  2025-04-18 09:33:00+00:00   \n",
       "678771  2025-04-18 09:34:00+00:00   \n",
       "678772  2025-04-18 09:35:00+00:00   \n",
       "678773  2025-04-18 09:36:00+00:00   \n",
       "678774  2025-04-18 09:37:00+00:00   \n",
       "...                           ...   \n",
       "1023027 2025-05-18 09:28:00+00:00   \n",
       "1023028 2025-05-18 09:29:00+00:00   \n",
       "1023029 2025-05-18 09:30:00+00:00   \n",
       "1023030 2025-05-18 09:31:00+00:00   \n",
       "1023031 2025-05-18 09:32:00+00:00   \n",
       "\n",
       "                                               feed_name     value  \n",
       "678770         value-slippage-balancer-ethereum-usdt-buy  0.010862  \n",
       "678771         value-slippage-balancer-ethereum-usdt-buy  0.010862  \n",
       "678772         value-slippage-balancer-ethereum-usdt-buy  0.010862  \n",
       "678773         value-slippage-balancer-ethereum-usdt-buy  0.010861  \n",
       "678774         value-slippage-balancer-ethereum-usdt-buy  0.010862  \n",
       "...                                                  ...       ...  \n",
       "1023027  value-slippage-uniswap-v3-ethereum-dai-100-sell -0.000091  \n",
       "1023028  value-slippage-uniswap-v3-ethereum-dai-100-sell -0.000092  \n",
       "1023029  value-slippage-uniswap-v3-ethereum-dai-100-sell -0.000091  \n",
       "1023030  value-slippage-uniswap-v3-ethereum-dai-100-sell -0.000091  \n",
       "1023031  value-slippage-uniswap-v3-ethereum-dai-100-sell -0.000091  \n",
       "\n",
       "[344262 rows x 3 columns]"
      ]
     },
     "execution_count": 107,
     "metadata": {},
     "output_type": "execute_result"
    }
   ],
   "source": [
    "df_slippage"
   ]
  },
  {
   "cell_type": "code",
   "execution_count": 114,
   "id": "de217566-0c83-457a-bf85-cbf9d00f2093",
   "metadata": {},
   "outputs": [
    {
     "name": "stdout",
     "output_type": "stream",
     "text": [
      "Mean absolute slippage BUY (lower is better):\n",
      "feed_name\n",
      "value-slippage-curve-ethereum-usdt-buy            0.000043\n",
      "value-slippage-uniswap-v3-ethereum-dai-100-buy    0.000044\n",
      "value-slippage-curve-ethereum-dai-buy             0.000048\n",
      "value-slippage-balancer-ethereum-usdt-buy         0.032099\n",
      "dtype: float64\n",
      "Mean absolute slippage SELL (lower is better):\n",
      "feed_name\n",
      "value-slippage-curve-ethereum-dai-sell             0.000003\n",
      "value-slippage-curve-ethereum-usdt-sell            0.000061\n",
      "value-slippage-uniswap-v3-ethereum-dai-100-sell    0.000082\n",
      "value-slippage-balancer-ethereum-usdt-sell         0.032711\n",
      "dtype: float64\n"
     ]
    }
   ],
   "source": [
    "# Pivot – szeroki DataFrame, każda kolumna to konkretny feed (buy lub sell)\n",
    "slippage_wide = df_slippage.pivot(index='time', columns='feed_name', values='value')\n",
    "\n",
    "# Lista wszystkich kolumn BUY i SELL\n",
    "buy_cols = [col for col in slippage_wide.columns if col.endswith('buy')]\n",
    "sell_cols = [col for col in slippage_wide.columns if col.endswith('sell')]\n",
    "\n",
    "# 1. Metryki mean_abs_slip\n",
    "mean_abs_slip_buy = slippage_wide[buy_cols].abs().mean().sort_values()\n",
    "mean_abs_slip_sell = slippage_wide[sell_cols].abs().mean().sort_values()\n",
    "\n",
    "\n",
    "print(\"Mean absolute slippage BUY (lower is better):\")\n",
    "print(mean_abs_slip_buy)\n",
    "\n",
    "print(\"Mean absolute slippage SELL (lower is better):\")\n",
    "print(mean_abs_slip_sell)"
   ]
  },
  {
   "cell_type": "markdown",
   "id": "722ff053-53f9-4978-8b67-e3087ccdbe8f",
   "metadata": {},
   "source": [
    "The slippage analysis shows that feeds from Curve pools (curve-ethereum-usdt and curve-ethereum-dai) consistently offer the lowest average slippage for both buy and sell transactions, indicating high market liquidity and robust resistance to price manipulation. This makes Curve-based slippage feeds both cost-effective for users and highly reliable as pricing sources for oracles. In contrast, Balancer pools exhibit much higher slippage, meaning their reported prices can be more easily manipulated and may not accurately reflect fair market value—making them less suitable as primary feeds for USDC pricing.\n",
    "\n",
    "\n",
    "\n",
    "\n",
    "\n",
    "\n",
    "\n"
   ]
  },
  {
   "cell_type": "code",
   "execution_count": 115,
   "id": "d690061f-448e-4bfb-9d71-c15bc8c25d05",
   "metadata": {},
   "outputs": [
    {
     "name": "stdout",
     "output_type": "stream",
     "text": [
      "\n",
      "Standard deviation of slippage BUY (lower is better):\n",
      "feed_name\n",
      "value-slippage-uniswap-v3-ethereum-dai-100-buy    0.000028\n",
      "value-slippage-curve-ethereum-usdt-buy            0.000050\n",
      "value-slippage-curve-ethereum-dai-buy             0.000054\n",
      "value-slippage-balancer-ethereum-usdt-buy         0.023976\n",
      "dtype: float64\n",
      "\n",
      "Standard deviation of slippage SELL (lower is better):\n",
      "feed_name\n",
      "value-slippage-curve-ethereum-dai-sell             0.000001\n",
      "value-slippage-uniswap-v3-ethereum-dai-100-sell    0.000034\n",
      "value-slippage-curve-ethereum-usdt-sell            0.000057\n",
      "value-slippage-balancer-ethereum-usdt-sell         0.024837\n",
      "dtype: float64\n"
     ]
    }
   ],
   "source": [
    "# 2. Metryki dla SELL\n",
    "\n",
    "std_slip_buy = slippage_wide[buy_cols].std().sort_values()\n",
    "std_slip_sell = slippage_wide[sell_cols].std().sort_values()\n",
    "\n",
    "print(\"\\nStandard deviation of slippage BUY (lower is better):\")\n",
    "print(std_slip_buy)\n",
    "print(\"\\nStandard deviation of slippage SELL (lower is better):\")\n",
    "print(std_slip_sell)"
   ]
  },
  {
   "cell_type": "markdown",
   "id": "79b28b88-cdca-429a-b001-fa54bcf6af0e",
   "metadata": {},
   "source": [
    "For BUY slippage, uniswap-v3-ethereum-dai-100-buy (0.000028), curve-ethereum-usdt-buy (0.000050), and curve-ethereum-dai-buy (0.000054) have very low standard deviation, meaning their transaction costs are both low and stable. Balancer again stands out with extremely high variability (0.0240), indicating unpredictable and volatile slippage.\n",
    "\n",
    "For SELL slippage, curve-ethereum-dai-sell (0.000001) is exceptionally stable, while uniswap-v3-ethereum-dai-100-sell (0.000034) and curve-ethereum-usdt-sell (0.000057) are also quite stable. Balancer’s standard deviation is again much higher (0.0248), signaling erratic, potentially risky slippage."
   ]
  },
  {
   "cell_type": "markdown",
   "id": "caf03bc5-8793-4b22-b301-65690a9f332d",
   "metadata": {},
   "source": [
    "## Slippeg final"
   ]
  },
  {
   "cell_type": "markdown",
   "id": "e0e011ff-ba0c-4aee-bb3e-041089c8dd13",
   "metadata": {},
   "source": [
    "**value-slippage-balancer-ethereum-usdt** is definetly the worst one for both BUY & SELL -> worth considering removing it from final median calcualtion\n",
    "\n",
    "**Curve and Uniswap** provide the best, most stable slippage for both buying and selling, making them ideal for price feeds and trading"
   ]
  },
  {
   "cell_type": "markdown",
   "id": "6c1a29e9-3884-48c5-b71b-5491ed819405",
   "metadata": {},
   "source": [
    "-----------------------------\n",
    "\n",
    "\n",
    "\n",
    "\n"
   ]
  },
  {
   "cell_type": "markdown",
   "id": "44573ce9-0079-4443-8e25-551978aa869e",
   "metadata": {},
   "source": [
    "----------------"
   ]
  },
  {
   "cell_type": "markdown",
   "id": "94ca924b-9fb3-4450-8414-9f832922658e",
   "metadata": {},
   "source": [
    "# Final metrics comparison\n",
    "\n",
    "Finding feeds that have the worst metrics"
   ]
  },
  {
   "cell_type": "markdown",
   "id": "2e4bbad4-6d98-4701-9b0e-d54a5d915ded",
   "metadata": {},
   "source": [
    "### Min & Max prices\n",
    "1. value-kaiko-v2 min: 0.989057 - lowest global min\n",
    "2. value-coingecko\tmin: 0.999587\tmax: 1.000000 - highest global low & max never moved above 1\n",
    "3. value-balancer-ethereum-usdt\tmax: 1.001450 (the highest max)"
   ]
  },
  {
   "cell_type": "markdown",
   "id": "47335d7d-ce92-4999-911a-32bd7e3157cc",
   "metadata": {},
   "source": [
    "### GAPS\n",
    "\n",
    "1. value-kaiko-v2 total: 9395 pct_total: 21.75%\n",
    "2. value-lbank-usdt total: 1492 pct_total:3.45%"
   ]
  },
  {
   "cell_type": "markdown",
   "id": "4076b2ba-06f3-4fc7-8d66-c9c73c796de6",
   "metadata": {},
   "source": [
    "### Standard Deviation\n",
    "1. value-kaiko-v2 STD: 0.000455\n",
    "2. value-bitrue-usdt STD: 0.000172"
   ]
  },
  {
   "cell_type": "markdown",
   "id": "5437c157-6068-46b4-a897-94904a9b8b6b",
   "metadata": {},
   "source": [
    "### IQR Outliers\n",
    "\n",
    "1. value-kaiko-v2                       12.43\n",
    "2. value-bitrue-usdt                    10.94\n",
    "3. value-bitstamp-usd                    7.50"
   ]
  },
  {
   "cell_type": "markdown",
   "id": "e8b21427-0bf4-49f4-8ce8-dd537e424fd9",
   "metadata": {},
   "source": [
    "### Flatness (feed's median movements agains global median)\n",
    "**High flatness_ratio**\n",
    "1. value-bitstamp-usd ratio: 2.560868\n",
    "2. value-coingecko ratio: 1.988871\n",
    "\n",
    "**Low flatness_ratio**\n",
    "1. value-kaiko-v2 ratio: 0.075014\n",
    "2. value-bitrue-usdt ratio: 0.505233"
   ]
  },
  {
   "cell_type": "markdown",
   "id": "035587c4-fa7c-4e00-8552-fd9fe6f254e8",
   "metadata": {},
   "source": [
    "### Mean absolute deviation from global median\n",
    "1. value-kaiko-v2                       0.000173\n",
    "2. value-kucoin-usdt                    0.000093"
   ]
  },
  {
   "cell_type": "markdown",
   "id": "96f35ede-6ba1-42f4-8500-8a116959f7db",
   "metadata": {
    "jp-MarkdownHeadingCollapsed": true
   },
   "source": [
    "### Feed's delay against global median\n",
    "\n",
    "**Feeds with delays:**\n",
    "\n",
    "1. value-bitrue-usdt (1 day count): 9 (2 days count): 2   \n",
    "2. value-kaiko-v2    (1 day count): 7 (2 days count): 1   \n",
    "3. value-kucoin-usdt (1 day count): 7 (2 days count): 2\n",
    "\n",
    "**Feeds that didn't move back:**\n",
    "\n",
    "1. value-bitstamp-usd (unresolved copunt): 113  \n",
    "2. value-coingecko (unresolved copunt): 113  \n",
    "3. value-uniswap-v3-ethereum-dai-100 (unresolved copunt): 60"
   ]
  },
  {
   "cell_type": "markdown",
   "id": "1ca129d8-6b25-4f37-af13-6c2a66c339b6",
   "metadata": {},
   "source": [
    "### Lowest corellation against global median\n",
    "\n",
    "1. value-kaiko-v2                       0.209167\n",
    "2. value-bitstamp-usd                   0.285659\n",
    "3. value-coingecko                      0.397027\n",
    "\n"
   ]
  },
  {
   "cell_type": "markdown",
   "id": "cd3bbde7-3088-4d91-a8fe-0a80a16f28d8",
   "metadata": {},
   "source": [
    "### Critical threshold (below 0.995)\n",
    "\n",
    "value-kaiko-v2 times: 4\n",
    "\n",
    "rest: 0"
   ]
  },
  {
   "cell_type": "markdown",
   "id": "a3035248-e2a9-4374-a868-b65d7f4c4393",
   "metadata": {},
   "source": [
    "### Critical threshold (above 1.003)\n",
    "\n",
    "value-kaiko-v2 times: 54\n",
    "\n",
    "rest: 0"
   ]
  },
  {
   "cell_type": "markdown",
   "id": "6bc62ae2-317b-47f3-b515-f35b2f815aef",
   "metadata": {},
   "source": [
    "### Slippeg:\n",
    "\n",
    "value-slippage-balancer-ethereum is the worst"
   ]
  },
  {
   "cell_type": "markdown",
   "id": "9c1180f5-4f72-489a-b4f6-6d6ab85c7d2c",
   "metadata": {},
   "source": [
    "Final thoughts:\n",
    "1. The worst source is definetly **coingecko**, it consistently performs the worst across all metrics.\n",
    "2. **kaiko-v2** exhibits the highest volatility and has highest mean deviation from global median.\n",
    "3. **value-bitstamp-usd** did not reflect the market price—similarly to coingecko—and its price movement is quite flat.\n",
    "4. **value-balancer-ethereum-usdt** has the highest maximum price and the worst slippage.\n",
    "\n",
    "\n",
    "It is clear that **coingecko and kaiko-v2 (and maybe value-bitstamp-usd)** should not be used to calculate the global median, while **value-balancer-ethereum-usdt** might still be considered—though it would be wise to add additional restrictions to this feed or lower its weight, if possible."
   ]
  }
 ],
 "metadata": {
  "kernelspec": {
   "display_name": "Python 3 (ipykernel)",
   "language": "python",
   "name": "python3"
  },
  "language_info": {
   "codemirror_mode": {
    "name": "ipython",
    "version": 3
   },
   "file_extension": ".py",
   "mimetype": "text/x-python",
   "name": "python",
   "nbconvert_exporter": "python",
   "pygments_lexer": "ipython3",
   "version": "3.9.6"
  }
 },
 "nbformat": 4,
 "nbformat_minor": 5
}
